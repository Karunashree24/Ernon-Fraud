{
 "cells": [
  {
   "cell_type": "markdown",
   "metadata": {},
   "source": [
    "## Initial Preparation/Importing Libraries"
   ]
  },
  {
   "cell_type": "code",
   "execution_count": 1,
   "metadata": {},
   "outputs": [],
   "source": [
    "import numpy as np\n",
    "import matplotlib.pyplot as plt\n",
    "import pylab as pl\n",
    "import random\n",
    "import sys\n",
    "import joblib\n",
    "from time import time\n",
    "import pickle\n",
    "#Append hardcore path of feature_format module python file\n",
    "sys.path.append(\"C:/Users/karun/Documents/Finale_ Python/Enron corpus fraud analysis/feature_format.py/\")\n",
    "from feature_format import *\n",
    "#Append hardcore path of tester module python file\n",
    "sys.path.append(\"C:/Users/karun/Documents/Finale_ Python/Enron corpus fraud analysis/tester.py/\")\n",
    "from tester import *\n",
    "#from outlier_cleaner import *\n",
    "import logging\n",
    "import re\n",
    "import os\n",
    "from sklearn.model_selection import train_test_split\n",
    "from sklearn.feature_extraction.text import TfidfVectorizer\n",
    "from sklearn.feature_selection import SelectPercentile, f_classif\n",
    "from nltk.stem.snowball import SnowballStemmer\n",
    "import string\n",
    "import pandas as pd\n",
    "from sklearn.feature_selection import SelectKBest\n",
    "from sklearn import preprocessing\n",
    "from sklearn import model_selection\n",
    "from sklearn.tree import DecisionTreeClassifier\n",
    "from sklearn.ensemble import AdaBoostClassifier\n",
    "from sklearn.ensemble import RandomForestClassifier\n",
    "from sklearn.neighbors import KNeighborsClassifier\n",
    "from sklearn.svm import SVC\n",
    "from sklearn.naive_bayes import GaussianNB\n",
    "from sklearn.metrics import accuracy_score\n",
    "from sklearn.metrics import precision_score\n",
    "from sklearn.metrics import recall_score\n",
    "from sklearn.model_selection import GridSearchCV\n",
    "import base64\n",
    "import json\n",
    "import subprocess\n",
    "import pprint\n",
    "import warnings\n",
    "warnings.filterwarnings('ignore')"
   ]
  },
  {
   "cell_type": "markdown",
   "metadata": {},
   "source": [
    "## Create Features list and Import necessary files"
   ]
  },
  {
   "cell_type": "code",
   "execution_count": 2,
   "metadata": {},
   "outputs": [],
   "source": [
    "features_list = ['poi', 'salary', 'to_messages', 'deferral_payments', 'total_payments',\n",
    "                 'loan_advances', 'bonus', 'restricted_stock_deferred',\n",
    "                 'deferred_income', 'total_stock_value', 'expenses', 'from_poi_to_this_person',\n",
    "                 'exercised_stock_options', 'from_messages', 'other', 'from_this_person_to_poi',\n",
    "                 'long_term_incentive', 'shared_receipt_with_poi', 'restricted_stock', 'director_fees']\n",
    "#Append hardcore path of the dataset file\n",
    "data_dict = joblib.load( open(\"C:/Users/karun/Documents/Finale_ Python/Enron corpus fraud analysis/final_project_dataset.pkl\", \"rb\") )"
   ]
  },
  {
   "cell_type": "markdown",
   "metadata": {},
   "source": [
    "## Initial data exploration"
   ]
  },
  {
   "cell_type": "code",
   "execution_count": 3,
   "metadata": {},
   "outputs": [
    {
     "name": "stdout",
     "output_type": "stream",
     "text": [
      "{'bonus': 5600000,\n",
      " 'deferral_payments': 'NaN',\n",
      " 'deferred_income': 'NaN',\n",
      " 'director_fees': 'NaN',\n",
      " 'email_address': 'jeff.skilling@enron.com',\n",
      " 'exercised_stock_options': 19250000,\n",
      " 'expenses': 29336,\n",
      " 'from_messages': 108,\n",
      " 'from_poi_to_this_person': 88,\n",
      " 'from_this_person_to_poi': 30,\n",
      " 'loan_advances': 'NaN',\n",
      " 'long_term_incentive': 1920000,\n",
      " 'other': 22122,\n",
      " 'poi': True,\n",
      " 'restricted_stock': 6843672,\n",
      " 'restricted_stock_deferred': 'NaN',\n",
      " 'salary': 1111258,\n",
      " 'shared_receipt_with_poi': 2042,\n",
      " 'to_messages': 3627,\n",
      " 'total_payments': 8682716,\n",
      " 'total_stock_value': 26093672}\n",
      "Total number of people in the dataset: 146\n",
      "Total number of features in the dataset: 21\n",
      "Number of POIs in the dataset: 18\n"
     ]
    }
   ],
   "source": [
    "#Sample data for one of the Top executives - Jeffrey Skilling\n",
    "pprint.pprint(data_dict[\"SKILLING JEFFREY K\"])\n",
    "\n",
    "#Number of people in the datasets\n",
    "\n",
    "print(\"Total number of people in the dataset: \" + str(len(data_dict)))\n",
    "\n",
    "#Number of features available in the dataset\n",
    "\n",
    "print(\"Total number of features in the dataset: \" + str(len(data_dict[\"SKILLING JEFFREY K\"])))\n",
    "\n",
    "#Number of POIs in the dataset\n",
    "\n",
    "def poi_count(file):\n",
    "    count = 0\n",
    "    for data in file:\n",
    "        if file[data]['poi'] == True:\n",
    "            count += 1\n",
    "    print(\"Number of POIs in the dataset: \" + str(count))\n",
    "\n",
    "poi_count(data_dict)"
   ]
  },
  {
   "cell_type": "markdown",
   "metadata": {},
   "source": [
    "## Detect outliers and remove them"
   ]
  },
  {
   "cell_type": "code",
   "execution_count": 4,
   "metadata": {},
   "outputs": [
    {
     "name": "stdout",
     "output_type": "stream",
     "text": [
      "97343619.0\n"
     ]
    },
    {
     "data": {
      "image/png": "[encoded data removed]",
      "text/plain": [
       "<Figure size 432x288 with 1 Axes>"
      ]
     },
     "metadata": {
      "needs_background": "light"
     },
     "output_type": "display_data"
    }
   ],
   "source": [
    "features = [\"bonus\",\"salary\"]\n",
    "data = featureFormat(data_dict, features)\n",
    "print(data.max())\n",
    "\n",
    "for point in data:\n",
    "    bonus = point[0]\n",
    "    salary = point[1]\n",
    "    plt.scatter( bonus, salary )\n",
    "\n",
    "plt.xlabel(\"bonus\")\n",
    "plt.ylabel(\"salary\")\n",
    "plt.show()"
   ]
  },
  {
   "cell_type": "markdown",
   "metadata": {},
   "source": [
    "## Maximum Salary"
   ]
  },
  {
   "cell_type": "code",
   "execution_count": 5,
   "metadata": {},
   "outputs": [
    {
     "name": "stdout",
     "output_type": "stream",
     "text": [
      "[('TOTAL', 26704229), ('SKILLING JEFFREY K', 1111258)]\n"
     ]
    }
   ],
   "source": [
    "outliers_salary = []\n",
    "for key in data_dict:\n",
    "    val = data_dict[key]['salary']\n",
    "    if val == 'NaN':\n",
    "        continue\n",
    "    outliers_salary.append((key,int(val)))\n",
    "\n",
    "pprint.pprint(sorted(outliers_salary,key=lambda x:x[1],reverse=True)[:2])"
   ]
  },
  {
   "cell_type": "markdown",
   "metadata": {},
   "source": [
    "## Removing Total and Travel Agency in the Park outliers"
   ]
  },
  {
   "cell_type": "code",
   "execution_count": 6,
   "metadata": {},
   "outputs": [
    {
     "data": {
      "text/plain": [
       "{'salary': 'NaN',\n",
       " 'to_messages': 'NaN',\n",
       " 'deferral_payments': 'NaN',\n",
       " 'total_payments': 362096,\n",
       " 'loan_advances': 'NaN',\n",
       " 'bonus': 'NaN',\n",
       " 'email_address': 'NaN',\n",
       " 'restricted_stock_deferred': 'NaN',\n",
       " 'deferred_income': 'NaN',\n",
       " 'total_stock_value': 'NaN',\n",
       " 'expenses': 'NaN',\n",
       " 'from_poi_to_this_person': 'NaN',\n",
       " 'exercised_stock_options': 'NaN',\n",
       " 'from_messages': 'NaN',\n",
       " 'other': 362096,\n",
       " 'from_this_person_to_poi': 'NaN',\n",
       " 'poi': False,\n",
       " 'long_term_incentive': 'NaN',\n",
       " 'shared_receipt_with_poi': 'NaN',\n",
       " 'restricted_stock': 'NaN',\n",
       " 'director_fees': 'NaN'}"
      ]
     },
     "execution_count": 6,
     "metadata": {},
     "output_type": "execute_result"
    }
   ],
   "source": [
    "data_dict.pop('TOTAL',0)\n",
    "data_dict.pop('THE TRAVEL AGENCY IN THE PARK',0)"
   ]
  },
  {
   "cell_type": "markdown",
   "metadata": {},
   "source": [
    "## Plotting after outlier removal"
   ]
  },
  {
   "cell_type": "code",
   "execution_count": 7,
   "metadata": {},
   "outputs": [
    {
     "data": {
      "image/png": "[encoded data removed]",
      "text/plain": [
       "<Figure size 432x288 with 1 Axes>"
      ]
     },
     "metadata": {
      "needs_background": "light"
     },
     "output_type": "display_data"
    }
   ],
   "source": [
    "my_dataset = data_dict\n",
    "my_feature_list = features_list\n",
    "data = featureFormat(data_dict, features)\n",
    "for point in data:\n",
    "    salary = point[0]\n",
    "    bonus = point[1]\n",
    "    plt.scatter( salary, bonus )\n",
    "\n",
    "\n",
    "plt.xlabel(\"salary\")\n",
    "plt.ylabel(\"bonus\")\n",
    "plt.show()"
   ]
  },
  {
   "cell_type": "markdown",
   "metadata": {},
   "source": [
    "## Investigating emails from and to a Person of Interest"
   ]
  },
  {
   "cell_type": "code",
   "execution_count": 8,
   "metadata": {},
   "outputs": [
    {
     "name": "stdout",
     "output_type": "stream",
     "text": [
      "609.0\n"
     ]
    },
    {
     "data": {
      "image/png": "[encoded data removed]",
      "text/plain": [
       "<Figure size 432x288 with 1 Axes>"
      ]
     },
     "metadata": {
      "needs_background": "light"
     },
     "output_type": "display_data"
    }
   ],
   "source": [
    "features = [\"from_this_person_to_poi\", \"from_poi_to_this_person\"]\n",
    "data = featureFormat(data_dict, features)\n",
    "\n",
    "print(data.max())\n",
    "#Plotting the graph\n",
    "for point in data:\n",
    "    from_this_person_to_poi = point[0]\n",
    "    from_poi_to_this_person = point[1]\n",
    "    plt.scatter( from_this_person_to_poi, from_poi_to_this_person )\n",
    "\n",
    "plt.xlabel(\"from_this_person_to_poi\")\n",
    "plt.ylabel(\"from_poi_to_this_person\")\n",
    "plt.show()"
   ]
  },
  {
   "cell_type": "markdown",
   "metadata": {},
   "source": [
    "## Dealing with 'NaN' values"
   ]
  },
  {
   "cell_type": "code",
   "execution_count": 9,
   "metadata": {},
   "outputs": [
    {
     "name": "stdout",
     "output_type": "stream",
     "text": [
      "salary                        50\n",
      "to_messages                   58\n",
      "deferral_payments            106\n",
      "total_payments                21\n",
      "loan_advances                141\n",
      "bonus                         63\n",
      "email_address                 33\n",
      "restricted_stock_deferred    127\n",
      "deferred_income               96\n",
      "total_stock_value             19\n",
      "expenses                      50\n",
      "from_poi_to_this_person       58\n",
      "exercised_stock_options       43\n",
      "from_messages                 58\n",
      "other                         53\n",
      "from_this_person_to_poi       58\n",
      "poi                            0\n",
      "long_term_incentive           79\n",
      "shared_receipt_with_poi       58\n",
      "restricted_stock              35\n",
      "director_fees                128\n",
      "dtype: int64\n",
      "(144, 21)\n",
      "salary                       0\n",
      "to_messages                  0\n",
      "deferral_payments            0\n",
      "total_payments               0\n",
      "loan_advances                0\n",
      "bonus                        0\n",
      "email_address                0\n",
      "restricted_stock_deferred    0\n",
      "deferred_income              0\n",
      "total_stock_value            0\n",
      "expenses                     0\n",
      "from_poi_to_this_person      0\n",
      "exercised_stock_options      0\n",
      "from_messages                0\n",
      "other                        0\n",
      "from_this_person_to_poi      0\n",
      "poi                          0\n",
      "long_term_incentive          0\n",
      "shared_receipt_with_poi      0\n",
      "restricted_stock             0\n",
      "director_fees                0\n",
      "dtype: int64\n",
      "     salary  to_messages  deferral_payments  total_payments  loan_advances  \\\n",
      "0  365788.0        807.0                0.0       1061827.0            0.0   \n",
      "1  267102.0          0.0          1295738.0       5634343.0            0.0   \n",
      "2  170941.0          0.0                0.0        211725.0            0.0   \n",
      "3       0.0        764.0                0.0             0.0            0.0   \n",
      "4  243293.0       1045.0                0.0        288682.0            0.0   \n",
      "\n",
      "       bonus             email_address  restricted_stock_deferred  \\\n",
      "0   600000.0      mark.metts@enron.com                        0.0   \n",
      "1  1200000.0                         0                        0.0   \n",
      "2   350000.0  steven.elliott@enron.com                        0.0   \n",
      "3        0.0     bill.cordes@enron.com                        0.0   \n",
      "4  1500000.0    kevin.hannon@enron.com                        0.0   \n",
      "\n",
      "   deferred_income  total_stock_value  ...  from_poi_to_this_person  \\\n",
      "0              0.0           585062.0  ...                     38.0   \n",
      "1       -1386055.0         10623258.0  ...                      0.0   \n",
      "2        -400729.0          6678735.0  ...                      0.0   \n",
      "3              0.0          1038185.0  ...                     10.0   \n",
      "4       -3117011.0          6391065.0  ...                     32.0   \n",
      "\n",
      "   exercised_stock_options  from_messages      other  from_this_person_to_poi  \\\n",
      "0                      0.0           29.0     1740.0                      1.0   \n",
      "1                6680544.0            0.0  2660303.0                      0.0   \n",
      "2                4890344.0            0.0    12961.0                      0.0   \n",
      "3                 651850.0           12.0        0.0                      0.0   \n",
      "4                5538001.0           32.0    11350.0                     21.0   \n",
      "\n",
      "     poi  long_term_incentive  shared_receipt_with_poi  restricted_stock  \\\n",
      "0  False                  0.0                    702.0          585062.0   \n",
      "1  False            1586055.0                      0.0         3942714.0   \n",
      "2  False                  0.0                      0.0         1788391.0   \n",
      "3  False                  0.0                     58.0          386335.0   \n",
      "4   True            1617011.0                   1035.0          853064.0   \n",
      "\n",
      "   director_fees  \n",
      "0            0.0  \n",
      "1            0.0  \n",
      "2            0.0  \n",
      "3            0.0  \n",
      "4            0.0  \n",
      "\n",
      "[5 rows x 21 columns]\n"
     ]
    },
    {
     "data": {
      "text/html": [
       "<div>\n",
       "<style scoped>\n",
       "    .dataframe tbody tr th:only-of-type {\n",
       "        vertical-align: middle;\n",
       "    }\n",
       "\n",
       "    .dataframe tbody tr th {\n",
       "        vertical-align: top;\n",
       "    }\n",
       "\n",
       "    .dataframe thead th {\n",
       "        text-align: right;\n",
       "    }\n",
       "</style>\n",
       "<table border=\"1\" class=\"dataframe\">\n",
       "  <thead>\n",
       "    <tr style=\"text-align: right;\">\n",
       "      <th></th>\n",
       "      <th>salary</th>\n",
       "      <th>to_messages</th>\n",
       "      <th>deferral_payments</th>\n",
       "      <th>total_payments</th>\n",
       "      <th>loan_advances</th>\n",
       "      <th>bonus</th>\n",
       "      <th>restricted_stock_deferred</th>\n",
       "      <th>deferred_income</th>\n",
       "      <th>total_stock_value</th>\n",
       "      <th>expenses</th>\n",
       "      <th>from_poi_to_this_person</th>\n",
       "      <th>exercised_stock_options</th>\n",
       "      <th>from_messages</th>\n",
       "      <th>other</th>\n",
       "      <th>from_this_person_to_poi</th>\n",
       "      <th>long_term_incentive</th>\n",
       "      <th>shared_receipt_with_poi</th>\n",
       "      <th>restricted_stock</th>\n",
       "      <th>director_fees</th>\n",
       "    </tr>\n",
       "  </thead>\n",
       "  <tbody>\n",
       "    <tr>\n",
       "      <th>count</th>\n",
       "      <td>1.440000e+02</td>\n",
       "      <td>144.000000</td>\n",
       "      <td>1.440000e+02</td>\n",
       "      <td>1.440000e+02</td>\n",
       "      <td>1.440000e+02</td>\n",
       "      <td>1.440000e+02</td>\n",
       "      <td>1.440000e+02</td>\n",
       "      <td>1.440000e+02</td>\n",
       "      <td>1.440000e+02</td>\n",
       "      <td>144.000000</td>\n",
       "      <td>144.000000</td>\n",
       "      <td>1.440000e+02</td>\n",
       "      <td>144.000000</td>\n",
       "      <td>1.440000e+02</td>\n",
       "      <td>144.000000</td>\n",
       "      <td>1.440000e+02</td>\n",
       "      <td>144.000000</td>\n",
       "      <td>1.440000e+02</td>\n",
       "      <td>144.000000</td>\n",
       "    </tr>\n",
       "    <tr>\n",
       "      <th>mean</th>\n",
       "      <td>1.854460e+05</td>\n",
       "      <td>1238.555556</td>\n",
       "      <td>2.220896e+05</td>\n",
       "      <td>2.256543e+06</td>\n",
       "      <td>5.828125e+05</td>\n",
       "      <td>6.759974e+05</td>\n",
       "      <td>7.341790e+04</td>\n",
       "      <td>-1.936833e+05</td>\n",
       "      <td>2.909786e+06</td>\n",
       "      <td>35375.340278</td>\n",
       "      <td>38.756944</td>\n",
       "      <td>2.075802e+06</td>\n",
       "      <td>363.583333</td>\n",
       "      <td>2.947455e+05</td>\n",
       "      <td>24.625000</td>\n",
       "      <td>3.369578e+05</td>\n",
       "      <td>702.611111</td>\n",
       "      <td>8.685363e+05</td>\n",
       "      <td>9980.319444</td>\n",
       "    </tr>\n",
       "    <tr>\n",
       "      <th>std</th>\n",
       "      <td>1.970421e+05</td>\n",
       "      <td>2237.564816</td>\n",
       "      <td>7.541013e+05</td>\n",
       "      <td>8.847189e+06</td>\n",
       "      <td>6.794472e+06</td>\n",
       "      <td>1.233155e+06</td>\n",
       "      <td>1.301983e+06</td>\n",
       "      <td>6.060111e+05</td>\n",
       "      <td>6.189018e+06</td>\n",
       "      <td>45309.303038</td>\n",
       "      <td>74.276769</td>\n",
       "      <td>4.795513e+06</td>\n",
       "      <td>1450.675239</td>\n",
       "      <td>1.131325e+06</td>\n",
       "      <td>79.778266</td>\n",
       "      <td>6.871826e+05</td>\n",
       "      <td>1077.290736</td>\n",
       "      <td>2.016572e+06</td>\n",
       "      <td>31300.575144</td>\n",
       "    </tr>\n",
       "    <tr>\n",
       "      <th>min</th>\n",
       "      <td>0.000000e+00</td>\n",
       "      <td>0.000000</td>\n",
       "      <td>-1.025000e+05</td>\n",
       "      <td>0.000000e+00</td>\n",
       "      <td>0.000000e+00</td>\n",
       "      <td>0.000000e+00</td>\n",
       "      <td>-1.787380e+06</td>\n",
       "      <td>-3.504386e+06</td>\n",
       "      <td>-4.409300e+04</td>\n",
       "      <td>0.000000</td>\n",
       "      <td>0.000000</td>\n",
       "      <td>0.000000e+00</td>\n",
       "      <td>0.000000</td>\n",
       "      <td>0.000000e+00</td>\n",
       "      <td>0.000000</td>\n",
       "      <td>0.000000e+00</td>\n",
       "      <td>0.000000</td>\n",
       "      <td>-2.604490e+06</td>\n",
       "      <td>0.000000</td>\n",
       "    </tr>\n",
       "    <tr>\n",
       "      <th>25%</th>\n",
       "      <td>0.000000e+00</td>\n",
       "      <td>0.000000</td>\n",
       "      <td>0.000000e+00</td>\n",
       "      <td>9.019275e+04</td>\n",
       "      <td>0.000000e+00</td>\n",
       "      <td>0.000000e+00</td>\n",
       "      <td>0.000000e+00</td>\n",
       "      <td>-3.708600e+04</td>\n",
       "      <td>2.443265e+05</td>\n",
       "      <td>0.000000</td>\n",
       "      <td>0.000000</td>\n",
       "      <td>0.000000e+00</td>\n",
       "      <td>0.000000</td>\n",
       "      <td>0.000000e+00</td>\n",
       "      <td>0.000000</td>\n",
       "      <td>0.000000e+00</td>\n",
       "      <td>0.000000</td>\n",
       "      <td>2.434500e+04</td>\n",
       "      <td>0.000000</td>\n",
       "    </tr>\n",
       "    <tr>\n",
       "      <th>50%</th>\n",
       "      <td>2.105960e+05</td>\n",
       "      <td>347.500000</td>\n",
       "      <td>0.000000e+00</td>\n",
       "      <td>9.413595e+05</td>\n",
       "      <td>0.000000e+00</td>\n",
       "      <td>3.000000e+05</td>\n",
       "      <td>0.000000e+00</td>\n",
       "      <td>0.000000e+00</td>\n",
       "      <td>9.659550e+05</td>\n",
       "      <td>20182.000000</td>\n",
       "      <td>4.000000</td>\n",
       "      <td>6.082935e+05</td>\n",
       "      <td>17.500000</td>\n",
       "      <td>9.190000e+02</td>\n",
       "      <td>0.000000</td>\n",
       "      <td>0.000000e+00</td>\n",
       "      <td>114.000000</td>\n",
       "      <td>3.605280e+05</td>\n",
       "      <td>0.000000</td>\n",
       "    </tr>\n",
       "    <tr>\n",
       "      <th>75%</th>\n",
       "      <td>2.696675e+05</td>\n",
       "      <td>1623.000000</td>\n",
       "      <td>8.535500e+03</td>\n",
       "      <td>1.945668e+06</td>\n",
       "      <td>0.000000e+00</td>\n",
       "      <td>8.000000e+05</td>\n",
       "      <td>0.000000e+00</td>\n",
       "      <td>0.000000e+00</td>\n",
       "      <td>2.295176e+06</td>\n",
       "      <td>53328.250000</td>\n",
       "      <td>41.250000</td>\n",
       "      <td>1.683580e+06</td>\n",
       "      <td>53.000000</td>\n",
       "      <td>1.485770e+05</td>\n",
       "      <td>14.000000</td>\n",
       "      <td>3.745862e+05</td>\n",
       "      <td>933.750000</td>\n",
       "      <td>7.374560e+05</td>\n",
       "      <td>0.000000</td>\n",
       "    </tr>\n",
       "    <tr>\n",
       "      <th>max</th>\n",
       "      <td>1.111258e+06</td>\n",
       "      <td>15149.000000</td>\n",
       "      <td>6.426990e+06</td>\n",
       "      <td>1.035598e+08</td>\n",
       "      <td>8.152500e+07</td>\n",
       "      <td>8.000000e+06</td>\n",
       "      <td>1.545629e+07</td>\n",
       "      <td>0.000000e+00</td>\n",
       "      <td>4.911008e+07</td>\n",
       "      <td>228763.000000</td>\n",
       "      <td>528.000000</td>\n",
       "      <td>3.434838e+07</td>\n",
       "      <td>14368.000000</td>\n",
       "      <td>1.035973e+07</td>\n",
       "      <td>609.000000</td>\n",
       "      <td>5.145434e+06</td>\n",
       "      <td>5521.000000</td>\n",
       "      <td>1.476169e+07</td>\n",
       "      <td>137864.000000</td>\n",
       "    </tr>\n",
       "  </tbody>\n",
       "</table>\n",
       "</div>"
      ],
      "text/plain": [
       "             salary   to_messages  deferral_payments  total_payments  \\\n",
       "count  1.440000e+02    144.000000       1.440000e+02    1.440000e+02   \n",
       "mean   1.854460e+05   1238.555556       2.220896e+05    2.256543e+06   \n",
       "std    1.970421e+05   2237.564816       7.541013e+05    8.847189e+06   \n",
       "min    0.000000e+00      0.000000      -1.025000e+05    0.000000e+00   \n",
       "25%    0.000000e+00      0.000000       0.000000e+00    9.019275e+04   \n",
       "50%    2.105960e+05    347.500000       0.000000e+00    9.413595e+05   \n",
       "75%    2.696675e+05   1623.000000       8.535500e+03    1.945668e+06   \n",
       "max    1.111258e+06  15149.000000       6.426990e+06    1.035598e+08   \n",
       "\n",
       "       loan_advances         bonus  restricted_stock_deferred  \\\n",
       "count   1.440000e+02  1.440000e+02               1.440000e+02   \n",
       "mean    5.828125e+05  6.759974e+05               7.341790e+04   \n",
       "std     6.794472e+06  1.233155e+06               1.301983e+06   \n",
       "min     0.000000e+00  0.000000e+00              -1.787380e+06   \n",
       "25%     0.000000e+00  0.000000e+00               0.000000e+00   \n",
       "50%     0.000000e+00  3.000000e+05               0.000000e+00   \n",
       "75%     0.000000e+00  8.000000e+05               0.000000e+00   \n",
       "max     8.152500e+07  8.000000e+06               1.545629e+07   \n",
       "\n",
       "       deferred_income  total_stock_value       expenses  \\\n",
       "count     1.440000e+02       1.440000e+02     144.000000   \n",
       "mean     -1.936833e+05       2.909786e+06   35375.340278   \n",
       "std       6.060111e+05       6.189018e+06   45309.303038   \n",
       "min      -3.504386e+06      -4.409300e+04       0.000000   \n",
       "25%      -3.708600e+04       2.443265e+05       0.000000   \n",
       "50%       0.000000e+00       9.659550e+05   20182.000000   \n",
       "75%       0.000000e+00       2.295176e+06   53328.250000   \n",
       "max       0.000000e+00       4.911008e+07  228763.000000   \n",
       "\n",
       "       from_poi_to_this_person  exercised_stock_options  from_messages  \\\n",
       "count               144.000000             1.440000e+02     144.000000   \n",
       "mean                 38.756944             2.075802e+06     363.583333   \n",
       "std                  74.276769             4.795513e+06    1450.675239   \n",
       "min                   0.000000             0.000000e+00       0.000000   \n",
       "25%                   0.000000             0.000000e+00       0.000000   \n",
       "50%                   4.000000             6.082935e+05      17.500000   \n",
       "75%                  41.250000             1.683580e+06      53.000000   \n",
       "max                 528.000000             3.434838e+07   14368.000000   \n",
       "\n",
       "              other  from_this_person_to_poi  long_term_incentive  \\\n",
       "count  1.440000e+02               144.000000         1.440000e+02   \n",
       "mean   2.947455e+05                24.625000         3.369578e+05   \n",
       "std    1.131325e+06                79.778266         6.871826e+05   \n",
       "min    0.000000e+00                 0.000000         0.000000e+00   \n",
       "25%    0.000000e+00                 0.000000         0.000000e+00   \n",
       "50%    9.190000e+02                 0.000000         0.000000e+00   \n",
       "75%    1.485770e+05                14.000000         3.745862e+05   \n",
       "max    1.035973e+07               609.000000         5.145434e+06   \n",
       "\n",
       "       shared_receipt_with_poi  restricted_stock  director_fees  \n",
       "count               144.000000      1.440000e+02     144.000000  \n",
       "mean                702.611111      8.685363e+05    9980.319444  \n",
       "std                1077.290736      2.016572e+06   31300.575144  \n",
       "min                   0.000000     -2.604490e+06       0.000000  \n",
       "25%                   0.000000      2.434500e+04       0.000000  \n",
       "50%                 114.000000      3.605280e+05       0.000000  \n",
       "75%                 933.750000      7.374560e+05       0.000000  \n",
       "max                5521.000000      1.476169e+07  137864.000000  "
      ]
     },
     "execution_count": 9,
     "metadata": {},
     "output_type": "execute_result"
    }
   ],
   "source": [
    "df_values = pd.DataFrame.from_records(list(data_dict.values()))\n",
    "df_values.head()\n",
    "\n",
    "df_persons = pd.Series(list(data_dict.keys()))\n",
    "df_persons.head()\n",
    "\n",
    "#We see lot's of NaN values. So we have to take care of that. We will convert them to numpy nan and then to zero.\n",
    "df_values.replace(to_replace='NaN', value=np.nan, inplace=True)\n",
    "\n",
    "# Count number of NaN's for columns\n",
    "print(df_values.isnull().sum())\n",
    "\n",
    "# DataFrame dimension\n",
    "print(df_values.shape)\n",
    "\n",
    "\n",
    "df_null = df_values.replace(to_replace=np.nan, value=0)\n",
    "df_null = df_values.fillna(0).copy(deep=True)\n",
    "df_null.columns = list(df_values.columns.values)\n",
    "print(df_null.isnull().sum())\n",
    "print(df_null.head())\n",
    "\n",
    "df_null.describe()"
   ]
  },
  {
   "cell_type": "markdown",
   "metadata": {},
   "source": [
    "## Classifier's Result before Feature Engineering"
   ]
  },
  {
   "cell_type": "code",
   "execution_count": 10,
   "metadata": {},
   "outputs": [
    {
     "name": "stdout",
     "output_type": "stream",
     "text": [
      "Decision Tree Classifier: \n",
      "Accuracy: 0.7441860465116279\n",
      "Precision Score: 0.2222222222222222\n",
      "Recall Score: 0.3333333333333333\n"
     ]
    }
   ],
   "source": [
    "data = featureFormat(my_dataset, features_list, sort_keys = True)\n",
    "labels, features = targetFeatureSplit(data)\n",
    "scaler = preprocessing.MinMaxScaler()\n",
    "features = scaler.fit_transform(features)\n",
    "features_train,features_test,labels_train,labels_test = model_selection.train_test_split(features,labels, test_size=0.3, \n",
    "                                                                                          random_state=21)\n",
    "clf = DecisionTreeClassifier(max_depth = 5)\n",
    "clf.fit(features_train,labels_train)\n",
    "pred = clf.predict(features_test)\n",
    "from sklearn.metrics import accuracy_score\n",
    "accuracy = accuracy_score(labels_test,pred)\n",
    "print(\"Decision Tree Classifier: \")\n",
    "print(\"Accuracy: \" + str(accuracy))\n",
    "print(\"Precision Score: \" + str(precision_score(labels_test,pred)))\n",
    "print(\"Recall Score: \" + str(recall_score(labels_test,pred)))"
   ]
  },
  {
   "cell_type": "markdown",
   "metadata": {},
   "source": [
    "## Feature Engineering"
   ]
  },
  {
   "cell_type": "code",
   "execution_count": 11,
   "metadata": {},
   "outputs": [
    {
     "name": "stdout",
     "output_type": "stream",
     "text": [
      "['poi', 'salary', 'to_messages', 'deferral_payments', 'total_payments', 'loan_advances', 'bonus', 'restricted_stock_deferred', 'deferred_income', 'total_stock_value', 'expenses', 'from_poi_to_this_person', 'exercised_stock_options', 'from_messages', 'other', 'from_this_person_to_poi', 'long_term_incentive', 'shared_receipt_with_poi', 'restricted_stock', 'director_fees', 'poi_ratio', 'fraction_to_poi', 'fraction_from_poi']\n"
     ]
    }
   ],
   "source": [
    "def add_poi_ratio(data_dict, features_list):\n",
    "    \"\"\" mutates data dict to add proportion of email interaction with pois \"\"\"\n",
    "    fields = ['to_messages', 'from_messages',\n",
    "              'from_poi_to_this_person', 'from_this_person_to_poi']\n",
    "    for record in data_dict:\n",
    "        person = data_dict[record]\n",
    "        is_valid = True\n",
    "        for field in fields:\n",
    "            if person[field] == 'NaN':\n",
    "                is_valid = False\n",
    "        if is_valid:\n",
    "            total_messages = person['to_messages'] +\\\n",
    "                             person['from_messages']\n",
    "            poi_messages = person['from_poi_to_this_person'] +\\\n",
    "                           person['from_this_person_to_poi']\n",
    "            person['poi_ratio'] = float(poi_messages) / total_messages\n",
    "        else:\n",
    "            person['poi_ratio'] = 'NaN'\n",
    "    features_list += ['poi_ratio']\n",
    "\n",
    "\n",
    "\n",
    "def add_fraction_to_poi(data_dict, features_list):\n",
    "    \"\"\" mutates data dict to add proportion of email fraction_to_poi \"\"\"\n",
    "    fields = ['from_messages', 'from_this_person_to_poi']\n",
    "    for record in data_dict:\n",
    "        person = data_dict[record]\n",
    "        is_valid = True\n",
    "        for field in fields:\n",
    "            if person[field] == 'NaN':\n",
    "                is_valid = False\n",
    "        if is_valid:\n",
    "            total_messages = person['from_messages']\n",
    "            poi_messages =   person['from_this_person_to_poi']\n",
    "            person['fraction_to_poi'] = float(poi_messages) / total_messages\n",
    "        else:\n",
    "            person['fraction_to_poi'] = 'NaN'\n",
    "    features_list += ['fraction_to_poi']\n",
    "\n",
    "\n",
    "def add_fraction_from_poi(data_dict, features_list):\n",
    "    \"\"\" mutates data dict to add proportion of email fraction_from_poi \"\"\"\n",
    "    fields = ['to_messages', 'from_poi_to_this_person']\n",
    "    for record in data_dict:\n",
    "        person = data_dict[record]\n",
    "        is_valid = True\n",
    "        for field in fields:\n",
    "            if person[field] == 'NaN':\n",
    "                is_valid = False\n",
    "        if is_valid:\n",
    "            total_messages = person['to_messages']\n",
    "            poi_messages =   person['from_poi_to_this_person']\n",
    "            person['fraction_from_poi'] = float(poi_messages) / total_messages\n",
    "        else:\n",
    "            person['fraction_from_poi'] = 'NaN'\n",
    "    features_list += ['fraction_from_poi']\n",
    "\n",
    "\n",
    "\n",
    "#Adding them to the features list\n",
    "add_poi_ratio(data_dict, my_feature_list)\n",
    "add_fraction_to_poi(data_dict, my_feature_list)\n",
    "add_fraction_from_poi(data_dict, my_feature_list)\n",
    "print(my_feature_list)"
   ]
  },
  {
   "cell_type": "markdown",
   "metadata": {},
   "source": [
    "## Classifier's Result after Feature Engineering"
   ]
  },
  {
   "cell_type": "code",
   "execution_count": 12,
   "metadata": {},
   "outputs": [
    {
     "name": "stdout",
     "output_type": "stream",
     "text": [
      "Decision Tree Classifier: \n",
      "Accuracy: 0.7441860465116279\n",
      "Precision Score: 0.14285714285714285\n",
      "Recall Score: 0.16666666666666666\n"
     ]
    }
   ],
   "source": [
    "data = featureFormat(my_dataset, features_list, sort_keys = True)\n",
    "labels, features = targetFeatureSplit(data)\n",
    "scaler = preprocessing.MinMaxScaler()\n",
    "features = scaler.fit_transform(features)\n",
    "features_train,features_test,labels_train,labels_test = model_selection.train_test_split(features,labels, test_size=0.3, \n",
    "                                                                                          random_state=21)\n",
    "clf = DecisionTreeClassifier(max_depth = 5)\n",
    "clf.fit(features_train,labels_train)\n",
    "pred = clf.predict(features_test)\n",
    "from sklearn.metrics import accuracy_score\n",
    "accuracy = accuracy_score(labels_test,pred)\n",
    "print(\"Decision Tree Classifier: \")\n",
    "print(\"Accuracy: \" + str(accuracy))\n",
    "print(\"Precision Score: \" + str(precision_score(labels_test,pred)))\n",
    "print(\"Recall Score: \" + str(recall_score(labels_test,pred)))"
   ]
  },
  {
   "cell_type": "code",
   "execution_count": 13,
   "metadata": {},
   "outputs": [
    {
     "name": "stdout",
     "output_type": "stream",
     "text": [
      "7 best features: dict_keys(['exercised_stock_options', 'total_stock_value', 'bonus', 'salary', 'fraction_to_poi', 'deferred_income', 'long_term_incentive'])\n",
      "\n",
      "{'exercised_stock_options': 24.815079733218194, 'total_stock_value': 24.18289867856688, 'bonus': 20.792252047181535, 'salary': 18.289684043404513, 'fraction_to_poi': 16.409712548035788, 'deferred_income': 11.458476579280369, 'long_term_incentive': 9.922186013189823}\n",
      "{'exercised_stock_options': 24.815079733218194, 'total_stock_value': 24.18289867856688, 'bonus': 20.792252047181535, 'salary': 18.289684043404513, 'fraction_to_poi': 16.409712548035788, 'deferred_income': 11.458476579280369, 'long_term_incentive': 9.922186013189823}\n",
      "7 selected features: ['exercised_stock_options', 'total_stock_value', 'bonus', 'salary', 'fraction_to_poi', 'deferred_income', 'long_term_incentive']\n",
      "\n"
     ]
    }
   ],
   "source": [
    "def get_k_best(enron_data, features_list, k):\n",
    "    \"\"\" runs scikit-learn's SelectKBest feature selection\n",
    "        returns dict where keys=features, values=scores\n",
    "    \"\"\"\n",
    "    data = featureFormat(data_dict, features_list)\n",
    "    labels, features = targetFeatureSplit(data)\n",
    "\n",
    "    k_best = SelectKBest(k=k)\n",
    "    k_best.fit(features, labels)\n",
    "    scores = k_best.scores_\n",
    "    unsorted_pairs = zip(features_list[1:], scores)\n",
    "    sorted_pairs = list(reversed(sorted(unsorted_pairs, key=lambda x: x[1])))\n",
    "    k_best_features = dict(sorted_pairs[:k])\n",
    "    print(\"{0} best features: {1}\\n\".format(k, k_best_features.keys()))\n",
    "    print(k_best_features)\n",
    "    return k_best_features\n",
    "\n",
    "target_label = 'poi'\n",
    "num_features = 7 # 11 best features\n",
    "top_features = get_k_best(data_dict, features_list, num_features)\n",
    "print(top_features)\n",
    "my_feature_list = [target_label] + list(top_features.keys())\n",
    "# print my_feature_list\n",
    "\n",
    "print(\"{0} selected features: {1}\\n\".format(len(my_feature_list) - 1, my_feature_list[1:]))\n",
    "\n",
    "features_list = my_feature_list"
   ]
  },
  {
   "cell_type": "code",
   "execution_count": null,
   "metadata": {},
   "outputs": [],
   "source": []
  },
  {
   "cell_type": "markdown",
   "metadata": {},
   "source": [
    "## Validity of SelectKBest"
   ]
  },
  {
   "cell_type": "code",
   "execution_count": 14,
   "metadata": {},
   "outputs": [],
   "source": [
    "features_list = [\"poi\", \"fraction_from_poi\", \"fraction_to_poi\", \"shared_receipt_with_poi\"]"
   ]
  },
  {
   "cell_type": "markdown",
   "metadata": {},
   "source": [
    "## Extract features and labels from dataset for local testing"
   ]
  },
  {
   "cell_type": "code",
   "execution_count": 15,
   "metadata": {},
   "outputs": [],
   "source": [
    "data = featureFormat(my_dataset, features_list, sort_keys = True)\n",
    "labels, features = targetFeatureSplit(data)"
   ]
  },
  {
   "cell_type": "markdown",
   "metadata": {},
   "source": [
    "## Scaling the features by MinMaxScaler from Sklearn preprocessing module"
   ]
  },
  {
   "cell_type": "code",
   "execution_count": 16,
   "metadata": {},
   "outputs": [],
   "source": [
    "scaler = preprocessing.MinMaxScaler()\n",
    "features = scaler.fit_transform(features)"
   ]
  },
  {
   "cell_type": "markdown",
   "metadata": {},
   "source": [
    "## Splitting the data into train data(70%) and test data(30%)"
   ]
  },
  {
   "cell_type": "code",
   "execution_count": 17,
   "metadata": {},
   "outputs": [],
   "source": [
    "features_train,features_test,labels_train,labels_test = model_selection.train_test_split(features,labels, test_size=0.3, \n",
    "                                                                                          random_state=21)"
   ]
  },
  {
   "cell_type": "markdown",
   "metadata": {},
   "source": [
    "# Using different Machine Learning Classifiers"
   ]
  },
  {
   "cell_type": "markdown",
   "metadata": {},
   "source": [
    "## Decision Tree Classifier"
   ]
  },
  {
   "cell_type": "code",
   "execution_count": 18,
   "metadata": {},
   "outputs": [
    {
     "name": "stdout",
     "output_type": "stream",
     "text": [
      "Decision Tree Classifier: \n",
      "Accuracy: 0.8461538461538461\n",
      "Precision Score: 0.6666666666666666\n",
      "Recall Score: 0.6666666666666666\n"
     ]
    }
   ],
   "source": [
    "clf = DecisionTreeClassifier(max_depth = 5)\n",
    "clf.fit(features_train,labels_train)\n",
    "pred = clf.predict(features_test)\n",
    "from sklearn.metrics import accuracy_score\n",
    "accuracy = accuracy_score(labels_test,pred)\n",
    "print(\"Decision Tree Classifier: \")\n",
    "print(\"Accuracy: \" + str(accuracy))\n",
    "print(\"Precision Score: \" + str(precision_score(labels_test,pred)))\n",
    "print(\"Recall Score: \" + str(recall_score(labels_test,pred)))"
   ]
  },
  {
   "cell_type": "markdown",
   "metadata": {},
   "source": [
    "## Naive Bayes Classifier"
   ]
  },
  {
   "cell_type": "code",
   "execution_count": 19,
   "metadata": {},
   "outputs": [
    {
     "name": "stdout",
     "output_type": "stream",
     "text": [
      "Naive Bayes Classifier: \n",
      "Accuracy: 0.6923076923076923\n",
      "Precision Score: 0.25\n",
      "Recall Score: 0.16666666666666666\n"
     ]
    }
   ],
   "source": [
    "clf = GaussianNB()\n",
    "clf.fit(features_train,labels_train)\n",
    "pred = clf.predict(features_test)\n",
    "from sklearn.metrics import accuracy_score\n",
    "accuracy = accuracy_score(labels_test,pred)\n",
    "print(\"Naive Bayes Classifier: \")\n",
    "print(\"Accuracy: \" + str(accuracy))\n",
    "print(\"Precision Score: \" + str(precision_score(labels_test,pred)))\n",
    "print(\"Recall Score: \" + str(recall_score(labels_test,pred)))"
   ]
  },
  {
   "cell_type": "markdown",
   "metadata": {},
   "source": [
    "## AdaBoost Classifier"
   ]
  },
  {
   "cell_type": "code",
   "execution_count": 20,
   "metadata": {
    "scrolled": true
   },
   "outputs": [
    {
     "name": "stdout",
     "output_type": "stream",
     "text": [
      "Adaboost Classifier: \n",
      "Accuracy: 0.8076923076923077\n",
      "Precision Score: 0.5714285714285714\n",
      "Recall Score: 0.6666666666666666\n"
     ]
    }
   ],
   "source": [
    "clf = AdaBoostClassifier()\n",
    "clf.fit(features_train,labels_train)\n",
    "pred = clf.predict(features_test)\n",
    "from sklearn.metrics import accuracy_score\n",
    "accuracy = accuracy_score(labels_test,pred)\n",
    "print(\"Adaboost Classifier: \")\n",
    "print(\"Accuracy: \" + str(accuracy))\n",
    "print(\"Precision Score: \" + str(precision_score(labels_test,pred)))\n",
    "print(\"Recall Score: \" + str(recall_score(labels_test,pred)))"
   ]
  },
  {
   "cell_type": "markdown",
   "metadata": {},
   "source": [
    "## Standard Vector Machine (rbf) Classifier"
   ]
  },
  {
   "cell_type": "code",
   "execution_count": 21,
   "metadata": {},
   "outputs": [
    {
     "name": "stdout",
     "output_type": "stream",
     "text": [
      "SVM Classifier: \n",
      "Accuracy: 0.7692307692307693\n",
      "Precision Score: 0.0\n",
      "Recall Score: 0.0\n"
     ]
    }
   ],
   "source": [
    "clf = SVC(gamma=3, C=2)\n",
    "clf.fit(features_train,labels_train)\n",
    "pred = clf.predict(features_test)\n",
    "from sklearn.metrics import accuracy_score\n",
    "accuracy = accuracy_score(labels_test,pred)\n",
    "print(\"SVM Classifier: \")\n",
    "print(\"Accuracy: \" + str(accuracy))\n",
    "print(\"Precision Score: \" + str(precision_score(labels_test,pred)))\n",
    "print(\"Recall Score: \" + str(recall_score(labels_test,pred)))"
   ]
  },
  {
   "cell_type": "markdown",
   "metadata": {},
   "source": [
    "## K Nearest Neighbours Classifier"
   ]
  },
  {
   "cell_type": "code",
   "execution_count": 22,
   "metadata": {},
   "outputs": [
    {
     "name": "stdout",
     "output_type": "stream",
     "text": [
      "kNN Classifier: \n",
      "Accuracy: 0.7692307692307693\n",
      "Precision Score: 0.5\n",
      "Recall Score: 0.16666666666666666\n"
     ]
    }
   ],
   "source": [
    "clf = KNeighborsClassifier(3)\n",
    "clf.fit(features_train,labels_train)\n",
    "pred = clf.predict(features_test)\n",
    "from sklearn.metrics import accuracy_score\n",
    "accuracy = accuracy_score(labels_test,pred)\n",
    "print(\"kNN Classifier: \")\n",
    "print(\"Accuracy: \" + str(accuracy))\n",
    "print(\"Precision Score: \" + str(precision_score(labels_test,pred)))\n",
    "print(\"Recall Score: \" + str(recall_score(labels_test,pred)))"
   ]
  },
  {
   "cell_type": "markdown",
   "metadata": {},
   "source": [
    "### Precision, recall and F1 "
   ]
  },
  {
   "cell_type": "code",
   "execution_count": 23,
   "metadata": {},
   "outputs": [],
   "source": [
    "from sklearn.mixture import GaussianMixture\n",
    "from sklearn.metrics import f1_score\n",
    "from sklearn.ensemble import RandomForestClassifier\n",
    "cv = model_selection.StratifiedShuffleSplit(n_splits=2,test_size=0.3,random_state=21)\n",
    "\n",
    "\n",
    "def scoring(estimator, features_test, labels_test):\n",
    "    labels_pred = estimator.predict(features_test)\n",
    "    p = precision_score(labels_test, labels_pred, average='micro')\n",
    "    r = recall_score(labels_test, labels_pred, average='micro')\n",
    "    if p > 0.3 and r > 0.3:\n",
    "        return f1_score(labels_test, labels_pred, average='macro')\n",
    "    return 0"
   ]
  },
  {
   "cell_type": "markdown",
   "metadata": {},
   "source": [
    "## Recursive Feature Selection"
   ]
  },
  {
   "cell_type": "code",
   "execution_count": 24,
   "metadata": {},
   "outputs": [
    {
     "name": "stdout",
     "output_type": "stream",
     "text": [
      "Optimal number of features : 3\n",
      "[ True  True  True]\n"
     ]
    },
    {
     "data": {
      "image/png": "[encoded data removed]",
      "text/plain": [
       "<Figure size 432x288 with 1 Axes>"
      ]
     },
     "metadata": {
      "needs_background": "light"
     },
     "output_type": "display_data"
    }
   ],
   "source": [
    "import matplotlib.pyplot as plt\n",
    "from sklearn.svm import SVC\n",
    "from sklearn.ensemble import RandomForestClassifier\n",
    "from sklearn.model_selection import StratifiedKFold\n",
    "from sklearn.feature_selection import RFECV\n",
    "clf = DecisionTreeClassifier(max_depth = 5)\n",
    "rfecv = RFECV(estimator=clf, step=1, cv=StratifiedKFold(n_splits=2, random_state=None),\n",
    "          scoring='precision')\n",
    "rfecv.fit(features, labels)\n",
    "print(\"Optimal number of features : %d\" % rfecv.n_features_)\n",
    "print(rfecv.support_)\n",
    "features=features[:,rfecv.support_]\n",
    "# Plot number of features VS. cross-validation scores\n",
    "plt.figure()\n",
    "plt.xlabel(\"Number of features selected\")\n",
    "plt.ylabel(\"Cross validation score (nb of correct classifications)\")\n",
    "plt.plot(range(1, len(rfecv.grid_scores_) + 1), rfecv.grid_scores_)\n",
    "plt.show()"
   ]
  },
  {
   "cell_type": "markdown",
   "metadata": {},
   "source": [
    "## Decision Tree Classifier Tuning"
   ]
  },
  {
   "cell_type": "code",
   "execution_count": 25,
   "metadata": {},
   "outputs": [
    {
     "name": "stdout",
     "output_type": "stream",
     "text": [
      "DecisionTreeClassifier(max_depth=3, min_samples_leaf=7)\n",
      "0.6231884057971014\n",
      "Processing time: 8.012 s\n"
     ]
    }
   ],
   "source": [
    "from sklearn.model_selection import GridSearchCV\n",
    "from sklearn.tree import DecisionTreeClassifier\n",
    "from time import time\n",
    "from sklearn.metrics import f1_score\n",
    "from sklearn import tree\n",
    "t0 = time()\n",
    "parameters = { 'max_depth': [1, 2, 3, 4, 5, 6, 8, 9, 10], \n",
    "               'min_samples_split':[2,3,4,5,6,7,8,9,10],\n",
    "               'min_samples_leaf': [1, 2, 3, 4, 5, 6, 7, 8],\n",
    "               'criterion': ('gini', 'entropy')\n",
    "             }\n",
    "decTree_clf = DecisionTreeClassifier()\n",
    "decTreeclf = GridSearchCV(decTree_clf, parameters, scoring=scoring , cv=cv)\n",
    "\n",
    "decTreeclf.fit(features, labels)\n",
    "print(decTreeclf.best_estimator_)\n",
    "print(decTreeclf.best_score_)\n",
    "print('Processing time:', round(time() - t0, 3), 's')"
   ]
  },
  {
   "cell_type": "code",
   "execution_count": 26,
   "metadata": {},
   "outputs": [],
   "source": [
    "import pickle\n",
    "import sys\n",
    "from sklearn.metrics import precision_score\n",
    "from sklearn.metrics import recall_score\n",
    "from sklearn.model_selection import StratifiedShuffleSplit\n",
    "#Append hardcore path of feature_format module python file\n",
    "sys.path.append(\"C:/Users/karun/Documents/Finale_ Python/Enron corpus fraud analysis/tester.py/\")\n",
    "from feature_format import *\n",
    "PERF_FORMAT_STRING = \"\\\\tAccuracy: {:>0.{display_precision}f}\\tPrecision: {:>0.{display_precision}f}\\t\\\n",
    "Recall: {:>0.{display_precision}f}\\tF1: {:>0.{display_precision}f}\\tF2: {:>0.{display_precision}f}\"\n",
    "RESULTS_FORMAT_STRING = \"\\tTotal predictions: {:4d}\\tTrue positives: {:4d}\\tFalse positives: {:4d}\\\n",
    "\\tFalse negatives: {:4d}\\tTrue negatives: {:4d}\"\n",
    "\n",
    "def test_classifier(clf, dataset, feature_list, folds=1000):\n",
    "    data = featureFormat(dataset, feature_list, sort_keys=True)\n",
    "    labels, features = targetFeatureSplit(data)\n",
    "    cv = StratifiedShuffleSplit(n_splits=folds, random_state=42)\n",
    "    true_negatives  = 0\n",
    "    false_negatives = 0\n",
    "    true_positives  = 0\n",
    "    false_positives = 0\n",
    "    for train_idx, test_idx in cv.split(features, labels):\n",
    "        features_train = []\n",
    "        features_test  = []\n",
    "        labels_train   = []\n",
    "        labels_test    = []\n",
    "        for ii in train_idx:\n",
    "            features_train.append(features[ii])\n",
    "            labels_train.append(labels[ii])\n",
    "        for jj in test_idx:\n",
    "            features_test.append(features[jj])\n",
    "            labels_test.append(labels[jj])\n",
    "\n",
    "        ### fit the classifier using training set, and test on test set\n",
    "        clf.fit(features_train, labels_train)\n",
    "        predictions = clf.predict(features_test)\n",
    "        for prediction, truth in zip(predictions, labels_test):\n",
    "            if prediction == 0 and truth == 0:\n",
    "                true_negatives += 1\n",
    "            elif prediction == 0 and truth == 1:\n",
    "                false_negatives += 1\n",
    "            elif prediction == 1 and truth == 0:\n",
    "                false_positives += 1\n",
    "            elif prediction == 1 and truth == 1:\n",
    "                true_positives += 1\n",
    "            else:\n",
    "                print(\"Warning: Found a predicted label not == 0 or 1.\")\n",
    "                print(\"All predictions should take value 0 or 1.\")\n",
    "                print(\"Evaluating performance for processed predictions:\")\n",
    "                break\n",
    "    try:\n",
    "        total_predictions = true_negatives + false_negatives + false_positives + true_positives\n",
    "        accuracy = 1.0*(true_positives + true_negatives)/total_predictions\n",
    "        precision = 1.0*true_positives/(true_positives+false_positives)\n",
    "        recall = 1.0*true_positives/(true_positives+false_negatives)\n",
    "        f1 = 2.0 * true_positives/(2*true_positives + false_positives+false_negatives)\n",
    "        f2 = (1+2.0*2.0) * precision*recall/(4*precision + recall)\n",
    "        print(clf)\n",
    "        print(PERF_FORMAT_STRING.format(accuracy, precision, recall, f1, f2, display_precision = 5))\n",
    "        print(RESULTS_FORMAT_STRING.format(total_predictions, true_positives, false_positives, false_negatives, true_negatives))\n",
    "        print(\"\")\n",
    "    except:\n",
    "        print(\"Got a divide by zero when trying out:\", clf)"
   ]
  },
  {
   "cell_type": "markdown",
   "metadata": {},
   "source": [
    "## Classifier Validation"
   ]
  },
  {
   "cell_type": "code",
   "execution_count": 27,
   "metadata": {
    "scrolled": true
   },
   "outputs": [
    {
     "name": "stdout",
     "output_type": "stream",
     "text": [
      "DecisionTreeClassifier(max_depth=3, min_samples_leaf=7)\n",
      "\\tAccuracy: 0.88489\tPrecision: 0.48387\tRecall: 0.54000\tF1: 0.51040\tF2: 0.52776\n",
      "\tTotal predictions: 9000\tTrue positives:  540\tFalse positives:  576\tFalse negatives:  460\tTrue negatives: 7424\n",
      "\n",
      "Processing time: 0.595 s\n"
     ]
    }
   ],
   "source": [
    "from time import time\n",
    "t0 = time()\n",
    "decTree_best_clf = decTreeclf.best_estimator_\n",
    "test_classifier(decTree_best_clf, my_dataset, features_list)\n",
    "print('Processing time:', round(time() - t0, 3), 's')"
   ]
  },
  {
   "cell_type": "code",
   "execution_count": 28,
   "metadata": {
    "scrolled": true
   },
   "outputs": [
    {
     "name": "stdout",
     "output_type": "stream",
     "text": [
      "Accuracy and Deviation: (0.8461538461538461, 0.0)\n",
      "Processing time: 0.008 s\n",
      "DecisionTreeClassifier(max_depth=3, min_samples_leaf=7)\n",
      "\\tAccuracy: 0.88422\tPrecision: 0.48118\tRecall: 0.53700\tF1: 0.50756\tF2: 0.52482\n",
      "\tTotal predictions: 9000\tTrue positives:  537\tFalse positives:  579\tFalse negatives:  463\tTrue negatives: 7421\n",
      "\n"
     ]
    }
   ],
   "source": [
    "from time import time\n",
    "from sklearn.model_selection import cross_val_score\n",
    "t0 = time()\n",
    "decTree_best_clf = decTreeclf.best_estimator_\n",
    "scores = cross_val_score(decTree_best_clf, features, labels, cv=cv,scoring = 'accuracy')\n",
    "print(\"Accuracy and Deviation: \" + str((scores.mean(), scores.std() * 2)))\n",
    "print('Processing time:', round(time() - t0, 3), 's')\n",
    "test_classifier(decTree_best_clf, my_dataset, features_list)"
   ]
  }
 ],
 "metadata": {
  "kernelspec": {
   "display_name": "Python 3 (ipykernel)",
   "language": "python",
   "name": "python3"
  },
  "language_info": {
   "codemirror_mode": {
    "name": "ipython",
    "version": 3
   },
   "file_extension": ".py",
   "mimetype": "text/x-python",
   "name": "python",
   "nbconvert_exporter": "python",
   "pygments_lexer": "ipython3",
   "version": "3.9.7"
  }
 },
 "nbformat": 4,
 "nbformat_minor": 4
}
